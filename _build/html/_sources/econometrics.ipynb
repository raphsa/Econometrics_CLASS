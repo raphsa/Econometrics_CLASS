{
 "cells": [
  {
   "cell_type": "markdown",
   "id": "03951c99",
   "metadata": {},
   "source": [
    "# Econometrics - The Course\n",
    "\n",
    "This website contains materials and exercises for the Econometrics course in the Faculty of Statistical Sciences at the University of Bologna, taught by Professor Renata Bottazzi.  \n",
    "\n",
    "The slides provided were created by Professor Renata Bottazzi, who is the course instructor.  \n",
    "\n",
    "This site serves as a support tool for completing exercises in preparation for the exam of the course `32626 - Econometrics`, part of the Stats&Maths path in the Bachelor's degree program in Statistical Sciences (code 8873).\n",
    "\n",
    "## Topics\n",
    "\n",
    "The site includes examples covered in class during exercise sessions as well as additional exercises to help you learn how to effectively use Stata, explore its capabilities and understand how to interpret an output.\n",
    "  \n",
    "The sidebar lists the topics faced during the exercise sessions by Raffaele Sali, the tutor of the course.\n",
    "\n",
    "## Documentation\n",
    "\n",
    "For further insights, it is recommended to consult the official documentation of Stata:\n",
    "- [Stata documentation](https://www.stata.com/features/documentation/)\n",
    "\n",
    "## Information\n",
    "\n",
    "This site was created by tutor Raffaele Sali. For any questions, feel free to contact: `raffaele.sali2@unibo.it`."
   ]
  }
 ],
 "metadata": {
  "jupytext": {
   "formats": "md:myst",
   "text_representation": {
    "extension": ".md",
    "format_name": "myst",
    "format_version": 0.13,
    "jupytext_version": "1.11.5"
   }
  },
  "kernelspec": {
   "display_name": "Python 3",
   "language": "python",
   "name": "python3"
  },
  "language_info": {
   "codemirror_mode": {
    "name": "ipython",
    "version": 3
   },
   "file_extension": ".py",
   "mimetype": "text/x-python",
   "name": "python",
   "nbconvert_exporter": "python",
   "pygments_lexer": "ipython3",
   "version": "3.9.13"
  },
  "source_map": [
   13
  ]
 },
 "nbformat": 4,
 "nbformat_minor": 5
}